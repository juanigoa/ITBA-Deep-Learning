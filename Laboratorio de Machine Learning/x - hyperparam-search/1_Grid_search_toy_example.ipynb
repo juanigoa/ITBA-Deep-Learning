{
 "cells": [
  {
   "cell_type": "code",
   "execution_count": 1,
   "metadata": {},
   "outputs": [
    {
     "name": "stderr",
     "output_type": "stream",
     "text": [
      "Using TensorFlow backend.\n"
     ]
    }
   ],
   "source": [
    "%load_ext autoreload\n",
    "%autoreload 2\n",
    "import numpy as np\n",
    "from matplotlib import pyplot as plt\n",
    "import reg_helper as RHelper\n",
    "import pandas as pd\n",
    "import numpy as np"
   ]
  },
  {
   "cell_type": "code",
   "execution_count": 2,
   "metadata": {},
   "outputs": [],
   "source": [
    "folder = 'data/'\n",
    "X = np.load(folder+'X_all.npy')\n",
    "y = np.load(folder+'y_all.npy').reshape(-1)"
   ]
  },
  {
   "cell_type": "code",
   "execution_count": 3,
   "metadata": {},
   "outputs": [],
   "source": [
    "from lightgbm import LGBMClassifier"
   ]
  },
  {
   "cell_type": "code",
   "execution_count": 4,
   "metadata": {},
   "outputs": [],
   "source": [
    "from sklearn.model_selection import GridSearchCV"
   ]
  },
  {
   "cell_type": "code",
   "execution_count": 5,
   "metadata": {},
   "outputs": [],
   "source": [
    "# Armo indices de train, val\n",
    "N_train = len(X)//2\n",
    "cv_s = [(np.arange(N_train), np.arange(N_train, 2*N_train))]"
   ]
  },
  {
   "cell_type": "code",
   "execution_count": 23,
   "metadata": {},
   "outputs": [
    {
     "data": {
      "text/plain": [
       "[(array([ 0,  1,  2,  3,  4,  5,  6,  7,  8,  9, 10, 11, 12, 13, 14, 15, 16,\n",
       "         17, 18, 19, 20, 21, 22, 23, 24, 25, 26, 27, 28, 29, 30, 31, 32, 33,\n",
       "         34, 35, 36, 37, 38, 39, 40, 41, 42, 43, 44, 45, 46, 47, 48, 49, 50,\n",
       "         51, 52, 53, 54, 55, 56, 57, 58]),\n",
       "  array([ 59,  60,  61,  62,  63,  64,  65,  66,  67,  68,  69,  70,  71,\n",
       "          72,  73,  74,  75,  76,  77,  78,  79,  80,  81,  82,  83,  84,\n",
       "          85,  86,  87,  88,  89,  90,  91,  92,  93,  94,  95,  96,  97,\n",
       "          98,  99, 100, 101, 102, 103, 104, 105, 106, 107, 108, 109, 110,\n",
       "         111, 112, 113, 114, 115, 116, 117]))]"
      ]
     },
     "execution_count": 23,
     "metadata": {},
     "output_type": "execute_result"
    }
   ],
   "source": [
    "cv_s"
   ]
  },
  {
   "cell_type": "code",
   "execution_count": 37,
   "metadata": {},
   "outputs": [],
   "source": [
    "X_train = X[cv_s[0][0]]\n",
    "y_train = y[cv_s[0][0]]\n",
    "X_val = X[cv_s[0][1]]\n",
    "y_val = y[cv_s[0][1]]"
   ]
  },
  {
   "cell_type": "code",
   "execution_count": 38,
   "metadata": {},
   "outputs": [
    {
     "name": "stdout",
     "output_type": "stream",
     "text": [
      "8\n",
      "5\n",
      "5\n",
      "5\n",
      "5\n",
      "Cantidad de iteraciones 5000\n"
     ]
    }
   ],
   "source": [
    "parameters = {\n",
    "    'max_depth': np.arange(1, 31, 4),\n",
    "    'learning_rate': np.logspace(-6, -1, 5),\n",
    "    'reg_lambda': np.logspace(-8, -3, 5),\n",
    "    'min_child_samples': np.arange(1, 20, 4),\n",
    "    'min_child_weight': np.logspace(-8, -1, 5)\n",
    "}\n",
    "\n",
    "prod = 1\n",
    "for k, v in parameters.items():\n",
    "    prod = prod * len(v)\n",
    "    print(len(v))\n",
    "n_estimators = 2000\n",
    "print('Cantidad de iteraciones', prod)"
   ]
  },
  {
   "cell_type": "code",
   "execution_count": 27,
   "metadata": {},
   "outputs": [
    {
     "name": "stdout",
     "output_type": "stream",
     "text": [
      "Fitting 1 folds for each of 5000 candidates, totalling 5000 fits\n"
     ]
    },
    {
     "name": "stderr",
     "output_type": "stream",
     "text": [
      "[Parallel(n_jobs=-1)]: Using backend LokyBackend with 12 concurrent workers.\n",
      "[Parallel(n_jobs=-1)]: Done  26 tasks      | elapsed:    1.4s\n",
      "[Parallel(n_jobs=-1)]: Done 176 tasks      | elapsed:    4.9s\n",
      "[Parallel(n_jobs=-1)]: Done 426 tasks      | elapsed:   12.5s\n",
      "[Parallel(n_jobs=-1)]: Done 776 tasks      | elapsed:   23.5s\n",
      "[Parallel(n_jobs=-1)]: Done 1226 tasks      | elapsed:   34.9s\n",
      "[Parallel(n_jobs=-1)]: Done 1776 tasks      | elapsed:   52.6s\n",
      "[Parallel(n_jobs=-1)]: Done 2426 tasks      | elapsed:  1.2min\n",
      "[Parallel(n_jobs=-1)]: Done 3215 tasks      | elapsed:  1.5min\n",
      "[Parallel(n_jobs=-1)]: Done 5000 out of 5000 | elapsed:  1.7min finished\n"
     ]
    },
    {
     "data": {
      "text/plain": [
       "GridSearchCV(cv=[(array([ 0,  1,  2,  3,  4,  5,  6,  7,  8,  9, 10, 11, 12, 13, 14, 15, 16,\n",
       "       17, 18, 19, 20, 21, 22, 23, 24, 25, 26, 27, 28, 29, 30, 31, 32, 33,\n",
       "       34, 35, 36, 37, 38, 39, 40, 41, 42, 43, 44, 45, 46, 47, 48, 49, 50,\n",
       "       51, 52, 53, 54, 55, 56, 57, 58]),\n",
       "                  array([ 59,  60,  61,  62,  63,  64,  65,  66,  67,  68,  69,  70,  71,\n",
       "        72,  73,  74,  75,  76,  77,  78,  79,  80,  81,  82,  83,  84,\n",
       "        85,  86,  87,  88,  89,  90,  91,  92,  93,  94,  95,  96,  97,\n",
       "        98,  99, 100, 101, 102, 103, 104, 105, 10...\n",
       "                         'max_depth': array([ 1,  5,  9, 13, 17, 21, 25, 29]),\n",
       "                         'min_child_samples': array([ 1,  5,  9, 13, 17]),\n",
       "                         'min_child_weight': array([1.00000000e-08, 5.62341325e-07, 3.16227766e-05, 1.77827941e-03,\n",
       "       1.00000000e-01]),\n",
       "                         'reg_lambda': array([1.00000000e-08, 1.77827941e-07, 3.16227766e-06, 5.62341325e-05,\n",
       "       1.00000000e-03])},\n",
       "             pre_dispatch='2*n_jobs', refit=True, return_train_score=False,\n",
       "             scoring=None, verbose=1)"
      ]
     },
     "execution_count": 27,
     "metadata": {},
     "output_type": "execute_result"
    }
   ],
   "source": [
    "model = LGBMClassifier(n_estimators=n_estimators)\n",
    "clf = GridSearchCV(model, parameters, n_jobs=-1, verbose=1, cv=cv_s)\n",
    "clf.fit(X, y, early_stopping_rounds=100, eval_set=(X_val, y_val), verbose=0)"
   ]
  },
  {
   "cell_type": "code",
   "execution_count": 28,
   "metadata": {},
   "outputs": [
    {
     "data": {
      "text/plain": [
       "{'learning_rate': 0.00031622776601683794,\n",
       " 'max_depth': 5,\n",
       " 'min_child_samples': 1,\n",
       " 'min_child_weight': 1e-08,\n",
       " 'reg_lambda': 1e-08}"
      ]
     },
     "execution_count": 28,
     "metadata": {},
     "output_type": "execute_result"
    }
   ],
   "source": [
    "clf.best_params_"
   ]
  },
  {
   "cell_type": "code",
   "execution_count": 40,
   "metadata": {},
   "outputs": [
    {
     "data": {
      "text/plain": [
       "0.7627118644067796"
      ]
     },
     "execution_count": 40,
     "metadata": {},
     "output_type": "execute_result"
    }
   ],
   "source": [
    "clf.best_score_"
   ]
  },
  {
   "cell_type": "code",
   "execution_count": 44,
   "metadata": {},
   "outputs": [
    {
     "data": {
      "text/plain": [
       "0.847457627118644"
      ]
     },
     "execution_count": 44,
     "metadata": {},
     "output_type": "execute_result"
    }
   ],
   "source": [
    "clf.best_estimator_.score(X_train, y_train)"
   ]
  },
  {
   "cell_type": "code",
   "execution_count": 30,
   "metadata": {},
   "outputs": [
    {
     "name": "stdout",
     "output_type": "stream",
     "text": [
      "Training until validation scores don't improve for 100 rounds.\n",
      "[100]\tvalid_0's binary_logloss: 0.70427\n",
      "[200]\tvalid_0's binary_logloss: 0.691176\n",
      "[300]\tvalid_0's binary_logloss: 0.679041\n",
      "[400]\tvalid_0's binary_logloss: 0.667777\n",
      "[500]\tvalid_0's binary_logloss: 0.656973\n",
      "[600]\tvalid_0's binary_logloss: 0.646826\n",
      "[700]\tvalid_0's binary_logloss: 0.637324\n",
      "[800]\tvalid_0's binary_logloss: 0.628106\n",
      "[900]\tvalid_0's binary_logloss: 0.61904\n",
      "[1000]\tvalid_0's binary_logloss: 0.610473\n",
      "[1100]\tvalid_0's binary_logloss: 0.602387\n",
      "[1200]\tvalid_0's binary_logloss: 0.594754\n",
      "[1300]\tvalid_0's binary_logloss: 0.587637\n",
      "[1400]\tvalid_0's binary_logloss: 0.580897\n",
      "[1500]\tvalid_0's binary_logloss: 0.574527\n",
      "[1600]\tvalid_0's binary_logloss: 0.568504\n",
      "[1700]\tvalid_0's binary_logloss: 0.562798\n",
      "[1800]\tvalid_0's binary_logloss: 0.557303\n",
      "[1900]\tvalid_0's binary_logloss: 0.551928\n",
      "[2000]\tvalid_0's binary_logloss: 0.546835\n",
      "Did not meet early stopping. Best iteration is:\n",
      "[2000]\tvalid_0's binary_logloss: 0.546835\n"
     ]
    },
    {
     "data": {
      "text/plain": [
       "LGBMClassifier(boosting_type='gbdt', class_weight=None, colsample_bytree=1.0,\n",
       "               importance_type='split', learning_rate=0.00031622776601683794,\n",
       "               max_depth=5, min_child_samples=1, min_child_weight=1e-08,\n",
       "               min_split_gain=0.0, n_estimators=2000, n_jobs=-1, num_leaves=31,\n",
       "               objective=None, random_state=None, reg_alpha=0.0,\n",
       "               reg_lambda=1e-08, silent=True, subsample=1.0,\n",
       "               subsample_for_bin=200000, subsample_freq=0)"
      ]
     },
     "execution_count": 30,
     "metadata": {},
     "output_type": "execute_result"
    }
   ],
   "source": [
    "model = LGBMClassifier(n_estimators=n_estimators, **clf.best_params_)\n",
    "model.fit(X_train, y_train, early_stopping_rounds=100, verbose=100, eval_set=(X_val, y_val))"
   ]
  },
  {
   "cell_type": "code",
   "execution_count": 31,
   "metadata": {},
   "outputs": [
    {
     "data": {
      "text/plain": [
       "0.7627118644067796"
      ]
     },
     "execution_count": 31,
     "metadata": {},
     "output_type": "execute_result"
    }
   ],
   "source": [
    "model.score(X[cv_s[0][1]], y[cv_s[0][1]])"
   ]
  },
  {
   "cell_type": "code",
   "execution_count": 50,
   "metadata": {},
   "outputs": [
    {
     "data": {
      "text/html": [
       "<div>\n",
       "<style scoped>\n",
       "    .dataframe tbody tr th:only-of-type {\n",
       "        vertical-align: middle;\n",
       "    }\n",
       "\n",
       "    .dataframe tbody tr th {\n",
       "        vertical-align: top;\n",
       "    }\n",
       "\n",
       "    .dataframe thead th {\n",
       "        text-align: right;\n",
       "    }\n",
       "</style>\n",
       "<table border=\"1\" class=\"dataframe\">\n",
       "  <thead>\n",
       "    <tr style=\"text-align: right;\">\n",
       "      <th></th>\n",
       "      <th>mean_fit_time</th>\n",
       "      <th>param_learning_rate</th>\n",
       "      <th>param_max_depth</th>\n",
       "      <th>param_min_child_samples</th>\n",
       "      <th>param_min_child_weight</th>\n",
       "      <th>param_reg_lambda</th>\n",
       "      <th>split0_test_score</th>\n",
       "      <th>mean_test_score</th>\n",
       "      <th>rank_test_score</th>\n",
       "    </tr>\n",
       "  </thead>\n",
       "  <tbody>\n",
       "    <tr>\n",
       "      <th>4011</th>\n",
       "      <td>0.033719</td>\n",
       "      <td>0.1</td>\n",
       "      <td>1</td>\n",
       "      <td>1</td>\n",
       "      <td>3.16228e-05</td>\n",
       "      <td>1.77828e-07</td>\n",
       "      <td>0.762712</td>\n",
       "      <td>0.762712</td>\n",
       "      <td>1</td>\n",
       "    </tr>\n",
       "    <tr>\n",
       "      <th>2532</th>\n",
       "      <td>0.369962</td>\n",
       "      <td>0.000316228</td>\n",
       "      <td>17</td>\n",
       "      <td>5</td>\n",
       "      <td>5.62341e-07</td>\n",
       "      <td>3.16228e-06</td>\n",
       "      <td>0.762712</td>\n",
       "      <td>0.762712</td>\n",
       "      <td>1</td>\n",
       "    </tr>\n",
       "    <tr>\n",
       "      <th>2533</th>\n",
       "      <td>0.388131</td>\n",
       "      <td>0.000316228</td>\n",
       "      <td>17</td>\n",
       "      <td>5</td>\n",
       "      <td>5.62341e-07</td>\n",
       "      <td>5.62341e-05</td>\n",
       "      <td>0.762712</td>\n",
       "      <td>0.762712</td>\n",
       "      <td>1</td>\n",
       "    </tr>\n",
       "    <tr>\n",
       "      <th>2534</th>\n",
       "      <td>0.433935</td>\n",
       "      <td>0.000316228</td>\n",
       "      <td>17</td>\n",
       "      <td>5</td>\n",
       "      <td>5.62341e-07</td>\n",
       "      <td>0.001</td>\n",
       "      <td>0.762712</td>\n",
       "      <td>0.762712</td>\n",
       "      <td>1</td>\n",
       "    </tr>\n",
       "    <tr>\n",
       "      <th>2535</th>\n",
       "      <td>0.453013</td>\n",
       "      <td>0.000316228</td>\n",
       "      <td>17</td>\n",
       "      <td>5</td>\n",
       "      <td>3.16228e-05</td>\n",
       "      <td>1e-08</td>\n",
       "      <td>0.762712</td>\n",
       "      <td>0.762712</td>\n",
       "      <td>1</td>\n",
       "    </tr>\n",
       "    <tr>\n",
       "      <th>2536</th>\n",
       "      <td>0.378816</td>\n",
       "      <td>0.000316228</td>\n",
       "      <td>17</td>\n",
       "      <td>5</td>\n",
       "      <td>3.16228e-05</td>\n",
       "      <td>1.77828e-07</td>\n",
       "      <td>0.762712</td>\n",
       "      <td>0.762712</td>\n",
       "      <td>1</td>\n",
       "    </tr>\n",
       "    <tr>\n",
       "      <th>2537</th>\n",
       "      <td>0.465548</td>\n",
       "      <td>0.000316228</td>\n",
       "      <td>17</td>\n",
       "      <td>5</td>\n",
       "      <td>3.16228e-05</td>\n",
       "      <td>3.16228e-06</td>\n",
       "      <td>0.762712</td>\n",
       "      <td>0.762712</td>\n",
       "      <td>1</td>\n",
       "    </tr>\n",
       "    <tr>\n",
       "      <th>2531</th>\n",
       "      <td>0.390456</td>\n",
       "      <td>0.000316228</td>\n",
       "      <td>17</td>\n",
       "      <td>5</td>\n",
       "      <td>5.62341e-07</td>\n",
       "      <td>1.77828e-07</td>\n",
       "      <td>0.762712</td>\n",
       "      <td>0.762712</td>\n",
       "      <td>1</td>\n",
       "    </tr>\n",
       "    <tr>\n",
       "      <th>2538</th>\n",
       "      <td>0.378509</td>\n",
       "      <td>0.000316228</td>\n",
       "      <td>17</td>\n",
       "      <td>5</td>\n",
       "      <td>3.16228e-05</td>\n",
       "      <td>5.62341e-05</td>\n",
       "      <td>0.762712</td>\n",
       "      <td>0.762712</td>\n",
       "      <td>1</td>\n",
       "    </tr>\n",
       "    <tr>\n",
       "      <th>2540</th>\n",
       "      <td>0.373358</td>\n",
       "      <td>0.000316228</td>\n",
       "      <td>17</td>\n",
       "      <td>5</td>\n",
       "      <td>0.00177828</td>\n",
       "      <td>1e-08</td>\n",
       "      <td>0.762712</td>\n",
       "      <td>0.762712</td>\n",
       "      <td>1</td>\n",
       "    </tr>\n",
       "  </tbody>\n",
       "</table>\n",
       "</div>"
      ],
      "text/plain": [
       "      mean_fit_time param_learning_rate param_max_depth  \\\n",
       "4011       0.033719                 0.1               1   \n",
       "2532       0.369962         0.000316228              17   \n",
       "2533       0.388131         0.000316228              17   \n",
       "2534       0.433935         0.000316228              17   \n",
       "2535       0.453013         0.000316228              17   \n",
       "2536       0.378816         0.000316228              17   \n",
       "2537       0.465548         0.000316228              17   \n",
       "2531       0.390456         0.000316228              17   \n",
       "2538       0.378509         0.000316228              17   \n",
       "2540       0.373358         0.000316228              17   \n",
       "\n",
       "     param_min_child_samples param_min_child_weight param_reg_lambda  \\\n",
       "4011                       1            3.16228e-05      1.77828e-07   \n",
       "2532                       5            5.62341e-07      3.16228e-06   \n",
       "2533                       5            5.62341e-07      5.62341e-05   \n",
       "2534                       5            5.62341e-07            0.001   \n",
       "2535                       5            3.16228e-05            1e-08   \n",
       "2536                       5            3.16228e-05      1.77828e-07   \n",
       "2537                       5            3.16228e-05      3.16228e-06   \n",
       "2531                       5            5.62341e-07      1.77828e-07   \n",
       "2538                       5            3.16228e-05      5.62341e-05   \n",
       "2540                       5             0.00177828            1e-08   \n",
       "\n",
       "      split0_test_score  mean_test_score  rank_test_score  \n",
       "4011           0.762712         0.762712                1  \n",
       "2532           0.762712         0.762712                1  \n",
       "2533           0.762712         0.762712                1  \n",
       "2534           0.762712         0.762712                1  \n",
       "2535           0.762712         0.762712                1  \n",
       "2536           0.762712         0.762712                1  \n",
       "2537           0.762712         0.762712                1  \n",
       "2531           0.762712         0.762712                1  \n",
       "2538           0.762712         0.762712                1  \n",
       "2540           0.762712         0.762712                1  "
      ]
     },
     "execution_count": 50,
     "metadata": {},
     "output_type": "execute_result"
    }
   ],
   "source": [
    "results_df = pd.DataFrame(clf.cv_results_)\n",
    "results_df.drop(columns=['std_fit_time', 'mean_score_time', 'std_score_time', 'params', \n",
    "                         'std_test_score']).sort_values('rank_test_score').head(10)"
   ]
  },
  {
   "cell_type": "code",
   "execution_count": 33,
   "metadata": {},
   "outputs": [
    {
     "data": {
      "text/html": [
       "<div>\n",
       "<style scoped>\n",
       "    .dataframe tbody tr th:only-of-type {\n",
       "        vertical-align: middle;\n",
       "    }\n",
       "\n",
       "    .dataframe tbody tr th {\n",
       "        vertical-align: top;\n",
       "    }\n",
       "\n",
       "    .dataframe thead th {\n",
       "        text-align: right;\n",
       "    }\n",
       "</style>\n",
       "<table border=\"1\" class=\"dataframe\">\n",
       "  <thead>\n",
       "    <tr style=\"text-align: right;\">\n",
       "      <th></th>\n",
       "      <th>mean_fit_time</th>\n",
       "      <th>param_learning_rate</th>\n",
       "      <th>param_max_depth</th>\n",
       "      <th>param_min_child_samples</th>\n",
       "      <th>param_min_child_weight</th>\n",
       "      <th>param_reg_lambda</th>\n",
       "      <th>split0_test_score</th>\n",
       "      <th>mean_test_score</th>\n",
       "      <th>rank_test_score</th>\n",
       "    </tr>\n",
       "  </thead>\n",
       "  <tbody>\n",
       "    <tr>\n",
       "      <th>4011</th>\n",
       "      <td>0.033719</td>\n",
       "      <td>0.1</td>\n",
       "      <td>1</td>\n",
       "      <td>1</td>\n",
       "      <td>3.16228e-05</td>\n",
       "      <td>1.77828e-07</td>\n",
       "      <td>0.762712</td>\n",
       "      <td>0.762712</td>\n",
       "      <td>1</td>\n",
       "    </tr>\n",
       "    <tr>\n",
       "      <th>2532</th>\n",
       "      <td>0.369962</td>\n",
       "      <td>0.000316228</td>\n",
       "      <td>17</td>\n",
       "      <td>5</td>\n",
       "      <td>5.62341e-07</td>\n",
       "      <td>3.16228e-06</td>\n",
       "      <td>0.762712</td>\n",
       "      <td>0.762712</td>\n",
       "      <td>1</td>\n",
       "    </tr>\n",
       "    <tr>\n",
       "      <th>2533</th>\n",
       "      <td>0.388131</td>\n",
       "      <td>0.000316228</td>\n",
       "      <td>17</td>\n",
       "      <td>5</td>\n",
       "      <td>5.62341e-07</td>\n",
       "      <td>5.62341e-05</td>\n",
       "      <td>0.762712</td>\n",
       "      <td>0.762712</td>\n",
       "      <td>1</td>\n",
       "    </tr>\n",
       "    <tr>\n",
       "      <th>2534</th>\n",
       "      <td>0.433935</td>\n",
       "      <td>0.000316228</td>\n",
       "      <td>17</td>\n",
       "      <td>5</td>\n",
       "      <td>5.62341e-07</td>\n",
       "      <td>0.001</td>\n",
       "      <td>0.762712</td>\n",
       "      <td>0.762712</td>\n",
       "      <td>1</td>\n",
       "    </tr>\n",
       "    <tr>\n",
       "      <th>2535</th>\n",
       "      <td>0.453013</td>\n",
       "      <td>0.000316228</td>\n",
       "      <td>17</td>\n",
       "      <td>5</td>\n",
       "      <td>3.16228e-05</td>\n",
       "      <td>1e-08</td>\n",
       "      <td>0.762712</td>\n",
       "      <td>0.762712</td>\n",
       "      <td>1</td>\n",
       "    </tr>\n",
       "    <tr>\n",
       "      <th>2536</th>\n",
       "      <td>0.378816</td>\n",
       "      <td>0.000316228</td>\n",
       "      <td>17</td>\n",
       "      <td>5</td>\n",
       "      <td>3.16228e-05</td>\n",
       "      <td>1.77828e-07</td>\n",
       "      <td>0.762712</td>\n",
       "      <td>0.762712</td>\n",
       "      <td>1</td>\n",
       "    </tr>\n",
       "    <tr>\n",
       "      <th>2537</th>\n",
       "      <td>0.465548</td>\n",
       "      <td>0.000316228</td>\n",
       "      <td>17</td>\n",
       "      <td>5</td>\n",
       "      <td>3.16228e-05</td>\n",
       "      <td>3.16228e-06</td>\n",
       "      <td>0.762712</td>\n",
       "      <td>0.762712</td>\n",
       "      <td>1</td>\n",
       "    </tr>\n",
       "    <tr>\n",
       "      <th>2531</th>\n",
       "      <td>0.390456</td>\n",
       "      <td>0.000316228</td>\n",
       "      <td>17</td>\n",
       "      <td>5</td>\n",
       "      <td>5.62341e-07</td>\n",
       "      <td>1.77828e-07</td>\n",
       "      <td>0.762712</td>\n",
       "      <td>0.762712</td>\n",
       "      <td>1</td>\n",
       "    </tr>\n",
       "    <tr>\n",
       "      <th>2538</th>\n",
       "      <td>0.378509</td>\n",
       "      <td>0.000316228</td>\n",
       "      <td>17</td>\n",
       "      <td>5</td>\n",
       "      <td>3.16228e-05</td>\n",
       "      <td>5.62341e-05</td>\n",
       "      <td>0.762712</td>\n",
       "      <td>0.762712</td>\n",
       "      <td>1</td>\n",
       "    </tr>\n",
       "    <tr>\n",
       "      <th>2540</th>\n",
       "      <td>0.373358</td>\n",
       "      <td>0.000316228</td>\n",
       "      <td>17</td>\n",
       "      <td>5</td>\n",
       "      <td>0.00177828</td>\n",
       "      <td>1e-08</td>\n",
       "      <td>0.762712</td>\n",
       "      <td>0.762712</td>\n",
       "      <td>1</td>\n",
       "    </tr>\n",
       "  </tbody>\n",
       "</table>\n",
       "</div>"
      ],
      "text/plain": [
       "      mean_fit_time param_learning_rate param_max_depth  \\\n",
       "4011       0.033719                 0.1               1   \n",
       "2532       0.369962         0.000316228              17   \n",
       "2533       0.388131         0.000316228              17   \n",
       "2534       0.433935         0.000316228              17   \n",
       "2535       0.453013         0.000316228              17   \n",
       "2536       0.378816         0.000316228              17   \n",
       "2537       0.465548         0.000316228              17   \n",
       "2531       0.390456         0.000316228              17   \n",
       "2538       0.378509         0.000316228              17   \n",
       "2540       0.373358         0.000316228              17   \n",
       "\n",
       "     param_min_child_samples param_min_child_weight param_reg_lambda  \\\n",
       "4011                       1            3.16228e-05      1.77828e-07   \n",
       "2532                       5            5.62341e-07      3.16228e-06   \n",
       "2533                       5            5.62341e-07      5.62341e-05   \n",
       "2534                       5            5.62341e-07            0.001   \n",
       "2535                       5            3.16228e-05            1e-08   \n",
       "2536                       5            3.16228e-05      1.77828e-07   \n",
       "2537                       5            3.16228e-05      3.16228e-06   \n",
       "2531                       5            5.62341e-07      1.77828e-07   \n",
       "2538                       5            3.16228e-05      5.62341e-05   \n",
       "2540                       5             0.00177828            1e-08   \n",
       "\n",
       "      split0_test_score  mean_test_score  rank_test_score  \n",
       "4011           0.762712         0.762712                1  \n",
       "2532           0.762712         0.762712                1  \n",
       "2533           0.762712         0.762712                1  \n",
       "2534           0.762712         0.762712                1  \n",
       "2535           0.762712         0.762712                1  \n",
       "2536           0.762712         0.762712                1  \n",
       "2537           0.762712         0.762712                1  \n",
       "2531           0.762712         0.762712                1  \n",
       "2538           0.762712         0.762712                1  \n",
       "2540           0.762712         0.762712                1  "
      ]
     },
     "execution_count": 33,
     "metadata": {},
     "output_type": "execute_result"
    }
   ],
   "source": []
  },
  {
   "cell_type": "code",
   "execution_count": 34,
   "metadata": {},
   "outputs": [
    {
     "name": "stdout",
     "output_type": "stream",
     "text": [
      "1358\n"
     ]
    },
    {
     "data": {
      "image/png": "[encoded data removed]",
      "text/plain": [
       "<Figure size 1440x576 with 6 Axes>"
      ]
     },
     "metadata": {
      "needs_background": "light"
     },
     "output_type": "display_data"
    }
   ],
   "source": [
    "s=2\n",
    "idx = 1358\n",
    "f, ax = plt.subplots(2, 3, figsize=(20,8))\n",
    "ax = ax.reshape(-1)\n",
    "ax[0].scatter(np.arange(len(results_df)), results_df['param_max_depth'], s=s)\n",
    "ax[0].scatter(np.arange(len(results_df))[idx], results_df['param_max_depth'][idx], s=20, c='g')\n",
    "ax[0].set_title('max_depth vs iterations')\n",
    "ax[1].scatter(np.arange(len(results_df)), np.log10(np.array(results_df['param_learning_rate'].values, dtype='float')), s=s)\n",
    "ax[1].scatter(np.arange(len(results_df))[idx], np.log10(np.array(results_df['param_learning_rate'].values, dtype='float'))[idx], s=20, c='g')\n",
    "ax[1].set_title('learning_rate vs iterations')\n",
    "ax[2].scatter(np.arange(len(results_df)), results_df['param_min_child_samples'].values,s=s)\n",
    "ax[2].scatter(np.arange(len(results_df))[idx], results_df['param_min_child_samples'].values[idx],s=20, c='g')\n",
    "ax[2].set_title('min_child_sample vs iterations')\n",
    "ax[3].scatter(np.arange(len(results_df)), np.log10(np.array(results_df['param_reg_lambda'].values, dtype='float')),s=s)\n",
    "ax[3].scatter(np.arange(len(results_df))[idx], np.log10(np.array(results_df['param_reg_lambda'].values, dtype='float'))[idx],s=20,  c='g')\n",
    "ax[3].set_title('reg_lambda vs iterations')\n",
    "ax[4].scatter(np.arange(len(results_df)), np.log10(np.array(results_df['param_min_child_weight'].values, dtype='float')), s=s)\n",
    "ax[4].scatter(np.arange(len(results_df))[idx], np.log10(np.array(results_df['param_min_child_weight'].values, dtype='float'))[idx], s=20, c='g')\n",
    "ax[4].set_title('min_child_weight vs iterations')\n",
    "ax[5].scatter(np.log10(np.array(results_df['param_learning_rate'].values, dtype='float')), results_df['mean_fit_time'].values,  s=s)\n",
    "ax[5].scatter(np.log10(np.array(results_df['param_learning_rate'].values, dtype='float'))[idx], results_df['mean_fit_time'].values[idx],  s=20, c='g')\n",
    "ax[5].set_title('fit time vs learning_rate')\n",
    "print(idx)"
   ]
  },
  {
   "cell_type": "code",
   "execution_count": 51,
   "metadata": {},
   "outputs": [
    {
     "data": {
      "image/png": "[encoded data removed]",
      "text/plain": [
       "<Figure size 1440x432 with 4 Axes>"
      ]
     },
     "metadata": {
      "needs_background": "light"
     },
     "output_type": "display_data"
    }
   ],
   "source": [
    "score_train = model.score(X_train, y_train)\n",
    "score_test = model.score(X_val, y_val)\n",
    "# Graficamos probabilidades en el plano de la combinación de todos los clasificadores\n",
    "f, (ax1, ax2) = plt.subplots(1, 2, figsize=(20,6))\n",
    "RHelper.plot_boundaries(X_train, y_train, score_train, model.predict,  mesh_res=200, ax=ax1, bound_line=False)\n",
    "RHelper.plot_boundaries(X_val, y_val, score_test, model.predict,  mesh_res=200, ax=ax2, bound_line=False)"
   ]
  },
  {
   "cell_type": "code",
   "execution_count": null,
   "metadata": {},
   "outputs": [],
   "source": []
  }
 ],
 "metadata": {
  "kernelspec": {
   "display_name": "Python 3",
   "language": "python",
   "name": "python3"
  },
  "language_info": {
   "codemirror_mode": {
    "name": "ipython",
    "version": 3
   },
   "file_extension": ".py",
   "mimetype": "text/x-python",
   "name": "python",
   "nbconvert_exporter": "python",
   "pygments_lexer": "ipython3",
   "version": "3.6.8"
  }
 },
 "nbformat": 4,
 "nbformat_minor": 2
}
